{
 "cells": [
  {
   "cell_type": "code",
   "execution_count": 23,
   "id": "0a791eb3",
   "metadata": {},
   "outputs": [],
   "source": [
    "import tensorflow as tf\n",
    "import numpy as np"
   ]
  },
  {
   "cell_type": "code",
   "execution_count": 18,
   "id": "4d3e1ca4",
   "metadata": {},
   "outputs": [
    {
     "name": "stdout",
     "output_type": "stream",
     "text": [
      "Model: \"model_8\"\n",
      "_________________________________________________________________\n",
      "Layer (type)                 Output Shape              Param #   \n",
      "=================================================================\n",
      "inputLayer (InputLayer)      [(None, 28, 28, 1)]       0         \n",
      "_________________________________________________________________\n",
      "hiddenLayer1 (Dense)         (None, 28, 28, 100)       200       \n",
      "_________________________________________________________________\n",
      "hiddenLayer2 (Dense)         (None, 28, 28, 100)       10100     \n",
      "_________________________________________________________________\n",
      "outputLayer (Dense)          (None, 28, 28, 10)        1010      \n",
      "=================================================================\n",
      "Total params: 11,310\n",
      "Trainable params: 11,310\n",
      "Non-trainable params: 0\n",
      "_________________________________________________________________\n"
     ]
    }
   ],
   "source": [
    "inputs = tf.keras.layers.Input(shape=(28,28,1), name='inputLayer')\n",
    "x = tf.keras.layers.Dense(100, activation='relu', name='hiddenLayer1')(inputs)\n",
    "x = tf.keras.layers.Dense(100, activation='relu', name='hiddenLayer2')(x)\n",
    "output = tf.keras.layers.Dense(10, activation='softmax', name='outputLayer')(x)\n",
    "model = tf.keras.Model(inputs=inputs, outputs=output)\n",
    "model.summary()"
   ]
  },
  {
   "cell_type": "code",
   "execution_count": 9,
   "id": "3fed39e0",
   "metadata": {},
   "outputs": [],
   "source": [
    "class MyModel(tf.keras.Model):\n",
    "\n",
    "  def __init__(self):\n",
    "    super(MyModel, self).__init__()\n",
    "    self.dense1 = tf.keras.layers.Dense(4, activation=tf.nn.relu)\n",
    "    self.dense2 = tf.keras.layers.Dense(5, activation=tf.nn.softmax)\n",
    "\n",
    "  def call(self, inputs):\n",
    "    x = self.dense1(inputs)\n",
    "    return self.dense2(x)\n",
    "\n",
    "model = MyModel()"
   ]
  },
  {
   "cell_type": "code",
   "execution_count": 19,
   "id": "e50db5ad",
   "metadata": {},
   "outputs": [
    {
     "data": {
      "text/plain": [
       "<tensorflow.python.keras.layers.core.Dense at 0x7fa125ff3550>"
      ]
     },
     "execution_count": 19,
     "metadata": {},
     "output_type": "execute_result"
    }
   ],
   "source": [
    "model.get_layer('hiddenLayer1')"
   ]
  },
  {
   "cell_type": "code",
   "execution_count": 21,
   "id": "76add1bb",
   "metadata": {},
   "outputs": [
    {
     "name": "stdout",
     "output_type": "stream",
     "text": [
      "INFO:tensorflow:Assets written to: /tmp/model/assets\n",
      "WARNING:tensorflow:No training configuration found in save file, so the model was *not* compiled. Compile it manually.\n"
     ]
    }
   ],
   "source": [
    "model = tf.keras.Sequential([\n",
    "     tf.keras.layers.Dense(5, input_shape=(3,)),\n",
    "    tf.keras.layers.Softmax()])\n",
    "model.save('/tmp/model')\n",
    "loaded_model = tf.keras.models.load_model('/tmp/model')\n",
    "x = tf.random.uniform((10, 3))"
   ]
  },
  {
   "cell_type": "code",
   "execution_count": 24,
   "id": "91b10d25",
   "metadata": {},
   "outputs": [],
   "source": [
    "assert np.allclose(model.predict(x), loaded_model.predict(x))"
   ]
  },
  {
   "cell_type": "code",
   "execution_count": 25,
   "id": "61a36bb0",
   "metadata": {},
   "outputs": [
    {
     "data": {
      "text/plain": [
       "[array([[ 0.7273894 , -0.37006173, -0.79726046,  0.83985347,  0.03123415],\n",
       "        [ 0.07322794,  0.2721563 ,  0.3689639 , -0.16604263, -0.5021881 ],\n",
       "        [ 0.31003422,  0.13854653,  0.26980287, -0.11156917,  0.8387876 ]],\n",
       "       dtype=float32),\n",
       " array([0., 0., 0., 0., 0.], dtype=float32)]"
      ]
     },
     "execution_count": 25,
     "metadata": {},
     "output_type": "execute_result"
    }
   ],
   "source": [
    "model.get_weights()"
   ]
  },
  {
   "cell_type": "code",
   "execution_count": 30,
   "id": "ceaef9fe",
   "metadata": {},
   "outputs": [
    {
     "data": {
      "text/plain": [
       "True"
      ]
     },
     "execution_count": 30,
     "metadata": {},
     "output_type": "execute_result"
    }
   ],
   "source": [
    "model.trainable"
   ]
  }
 ],
 "metadata": {
  "kernelspec": {
   "display_name": "Python 3",
   "language": "python",
   "name": "python3"
  },
  "language_info": {
   "codemirror_mode": {
    "name": "ipython",
    "version": 3
   },
   "file_extension": ".py",
   "mimetype": "text/x-python",
   "name": "python",
   "nbconvert_exporter": "python",
   "pygments_lexer": "ipython3",
   "version": "3.7.10"
  }
 },
 "nbformat": 4,
 "nbformat_minor": 5
}
