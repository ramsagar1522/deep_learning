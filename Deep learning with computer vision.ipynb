{
 "cells": [
  {
   "cell_type": "code",
   "execution_count": 3,
   "id": "fd4ac0c9",
   "metadata": {},
   "outputs": [
    {
     "name": "stdout",
     "output_type": "stream",
     "text": [
      "The tensorboard extension is already loaded. To reload it, use:\n",
      "  %reload_ext tensorboard\n"
     ]
    }
   ],
   "source": [
    "import tensorflow as tf\n",
    "import numpy as np\n",
    "import pandas as pd\n",
    "import matplotlib.pyplot as plt\n",
    "\n",
    "%matplotlib inline\n",
    "%load_ext tensorboard"
   ]
  },
  {
   "cell_type": "code",
   "execution_count": 4,
   "id": "38bacd13",
   "metadata": {},
   "outputs": [],
   "source": [
    "(train_images, train_labels), (test_images, test_labels) = tf.keras.datasets.mnist.load_data()"
   ]
  },
  {
   "cell_type": "code",
   "execution_count": 36,
   "id": "fb2a2da7",
   "metadata": {},
   "outputs": [
    {
     "data": {
      "image/png": "[encoded data removed]",
      "text/plain": [
       "<Figure size 432x288 with 1 Axes>"
      ]
     },
     "metadata": {},
     "output_type": "display_data"
    }
   ],
   "source": [
    "plt.imshow(train_images[0])\n",
    "plt.grid(False)\n",
    "plt.xticks([])\n",
    "plt.yticks([])\n",
    "plt.show()"
   ]
  },
  {
   "cell_type": "code",
   "execution_count": 35,
   "id": "18cc3487",
   "metadata": {},
   "outputs": [],
   "source": [
    "train_images = train_images.astype('float32') / 255.0\n",
    "train_images = train_images.reshape((60000, 28, 28, 1))\n",
    "test_images = test_images.astype('float32') / 255.0\n",
    "test_images = test_images.reshape((10000, 28, 28, 1))"
   ]
  },
  {
   "cell_type": "code",
   "execution_count": 13,
   "id": "1bb78c42",
   "metadata": {},
   "outputs": [],
   "source": [
    "from tensorflow.keras.utils import to_categorical\n",
    "test_labels = to_categorical(test_labels)\n",
    "train_labels = to_categorical(train_labels)"
   ]
  },
  {
   "cell_type": "code",
   "execution_count": 15,
   "id": "bd2f4606",
   "metadata": {},
   "outputs": [
    {
     "data": {
      "text/plain": [
       "array([0., 0., 0., 0., 0., 0., 0., 1., 0., 0.], dtype=float32)"
      ]
     },
     "execution_count": 15,
     "metadata": {},
     "output_type": "execute_result"
    }
   ],
   "source": [
    "test_labels[0]"
   ]
  },
  {
   "cell_type": "code",
   "execution_count": 20,
   "id": "728e14f7",
   "metadata": {},
   "outputs": [
    {
     "data": {
      "text/plain": [
       "array([7, 2, 1, 0, 4])"
      ]
     },
     "execution_count": 20,
     "metadata": {},
     "output_type": "execute_result"
    }
   ],
   "source": [
    "np.argmax(test_labels[:5], axis=1)"
   ]
  },
  {
   "cell_type": "markdown",
   "id": "3cfc404d",
   "metadata": {},
   "source": [
    "#  Instantiating a small convnet"
   ]
  },
  {
   "cell_type": "code",
   "execution_count": 23,
   "id": "c59b83ed",
   "metadata": {},
   "outputs": [],
   "source": [
    "from tensorflow.keras import models\n",
    "from tensorflow.keras import layers\n",
    "from tensorflow.keras import activations"
   ]
  },
  {
   "cell_type": "code",
   "execution_count": 30,
   "id": "1517d9ae",
   "metadata": {},
   "outputs": [],
   "source": [
    "model = models.Sequential()\n",
    "model.add(layers.Conv2D(32, (3,3), activation='relu', input_shape=(28, 28, 1)))\n",
    "model.add(layers.MaxPooling2D((2,2)))\n",
    "model.add(layers.Conv2D(64, (3,3), activation='relu'))\n",
    "model.add(layers.MaxPooling2D((2,2)))\n",
    "model.add(layers.Conv2D(64, (3,3), activation='relu'))"
   ]
  },
  {
   "cell_type": "code",
   "execution_count": 31,
   "id": "44f5d608",
   "metadata": {},
   "outputs": [
    {
     "name": "stdout",
     "output_type": "stream",
     "text": [
      "Model: \"sequential_3\"\n",
      "_________________________________________________________________\n",
      "Layer (type)                 Output Shape              Param #   \n",
      "=================================================================\n",
      "conv2d_6 (Conv2D)            (None, 26, 26, 32)        320       \n",
      "_________________________________________________________________\n",
      "max_pooling2d_4 (MaxPooling2 (None, 13, 13, 32)        0         \n",
      "_________________________________________________________________\n",
      "conv2d_7 (Conv2D)            (None, 11, 11, 64)        18496     \n",
      "_________________________________________________________________\n",
      "max_pooling2d_5 (MaxPooling2 (None, 5, 5, 64)          0         \n",
      "_________________________________________________________________\n",
      "conv2d_8 (Conv2D)            (None, 3, 3, 64)          36928     \n",
      "=================================================================\n",
      "Total params: 55,744\n",
      "Trainable params: 55,744\n",
      "Non-trainable params: 0\n",
      "_________________________________________________________________\n"
     ]
    }
   ],
   "source": [
    "model.summary()"
   ]
  },
  {
   "cell_type": "code",
   "execution_count": 32,
   "id": "f2b6c282",
   "metadata": {},
   "outputs": [],
   "source": [
    "model.add(layers.Flatten())\n",
    "model.add(layers.Dense(64, activation='relu'))\n",
    "model.add(layers.Dense(10, activation='softmax'))"
   ]
  },
  {
   "cell_type": "code",
   "execution_count": 33,
   "id": "546c016b",
   "metadata": {},
   "outputs": [
    {
     "name": "stdout",
     "output_type": "stream",
     "text": [
      "Model: \"sequential_3\"\n",
      "_________________________________________________________________\n",
      "Layer (type)                 Output Shape              Param #   \n",
      "=================================================================\n",
      "conv2d_6 (Conv2D)            (None, 26, 26, 32)        320       \n",
      "_________________________________________________________________\n",
      "max_pooling2d_4 (MaxPooling2 (None, 13, 13, 32)        0         \n",
      "_________________________________________________________________\n",
      "conv2d_7 (Conv2D)            (None, 11, 11, 64)        18496     \n",
      "_________________________________________________________________\n",
      "max_pooling2d_5 (MaxPooling2 (None, 5, 5, 64)          0         \n",
      "_________________________________________________________________\n",
      "conv2d_8 (Conv2D)            (None, 3, 3, 64)          36928     \n",
      "_________________________________________________________________\n",
      "flatten_1 (Flatten)          (None, 576)               0         \n",
      "_________________________________________________________________\n",
      "dense_2 (Dense)              (None, 64)                36928     \n",
      "_________________________________________________________________\n",
      "dense_3 (Dense)              (None, 10)                650       \n",
      "=================================================================\n",
      "Total params: 93,322\n",
      "Trainable params: 93,322\n",
      "Non-trainable params: 0\n",
      "_________________________________________________________________\n"
     ]
    }
   ],
   "source": [
    "model.summary()"
   ]
  },
  {
   "cell_type": "code",
   "execution_count": 37,
   "id": "ef1db27f",
   "metadata": {},
   "outputs": [],
   "source": [
    "model.compile(optimizer='rmsprop',\n",
    "             loss='categorical_crossentropy',\n",
    "             metrics=['accuracy'])"
   ]
  },
  {
   "cell_type": "code",
   "execution_count": 45,
   "id": "28846794",
   "metadata": {},
   "outputs": [],
   "source": [
    "import time\n",
    "dir_name='my_logs/' + time.strftime('%Y_%M_%d_%m_%s')"
   ]
  },
  {
   "cell_type": "code",
   "execution_count": 51,
   "id": "9adaf57f",
   "metadata": {},
   "outputs": [],
   "source": [
    "tensorboard_cb = tf.keras.callbacks.TensorBoard(log_dir=dir_name)"
   ]
  },
  {
   "cell_type": "code",
   "execution_count": 55,
   "id": "3d87526d",
   "metadata": {},
   "outputs": [
    {
     "name": "stdout",
     "output_type": "stream",
     "text": [
      "Epoch 1/5\n",
      "1688/1688 [==============================] - 60s 36ms/step - loss: 2.3013 - accuracy: 0.1132 - val_loss: 2.3021 - val_accuracy: 0.1050\n",
      "Epoch 2/5\n",
      "1688/1688 [==============================] - 45s 26ms/step - loss: 2.3013 - accuracy: 0.1132 - val_loss: 2.3019 - val_accuracy: 0.1050\n",
      "Epoch 3/5\n",
      "1688/1688 [==============================] - 43s 25ms/step - loss: 2.3013 - accuracy: 0.1132 - val_loss: 2.3019 - val_accuracy: 0.1050\n",
      "Epoch 4/5\n",
      "1688/1688 [==============================] - 41s 24ms/step - loss: 2.3013 - accuracy: 0.1132 - val_loss: 2.3023 - val_accuracy: 0.1050\n",
      "Epoch 5/5\n",
      "1688/1688 [==============================] - 43s 26ms/step - loss: 2.3013 - accuracy: 0.1132 - val_loss: 2.3022 - val_accuracy: 0.1050\n"
     ]
    }
   ],
   "source": [
    "history = model.fit(train_images, train_labels, epochs=5,\n",
    "                    validation_split=0.1, callbacks=[tensorboard_cb])"
   ]
  },
  {
   "cell_type": "code",
   "execution_count": 56,
   "id": "224cab6c",
   "metadata": {},
   "outputs": [
    {
     "data": {
      "text/plain": [
       "Reusing TensorBoard on port 6007 (pid 53109), started 0:23:27 ago. (Use '!kill 53109' to kill it.)"
      ]
     },
     "metadata": {},
     "output_type": "display_data"
    },
    {
     "data": {
      "text/html": [
       "\n",
       "      <iframe id=\"tensorboard-frame-cf6d09c4a07aa1c4\" width=\"100%\" height=\"800\" frameborder=\"0\">\n",
       "      </iframe>\n",
       "      <script>\n",
       "        (function() {\n",
       "          const frame = document.getElementById(\"tensorboard-frame-cf6d09c4a07aa1c4\");\n",
       "          const url = new URL(\"/\", window.location);\n",
       "          const port = 6007;\n",
       "          if (port) {\n",
       "            url.port = port;\n",
       "          }\n",
       "          frame.src = url;\n",
       "        })();\n",
       "      </script>\n",
       "    "
      ],
      "text/plain": [
       "<IPython.core.display.HTML object>"
      ]
     },
     "metadata": {},
     "output_type": "display_data"
    }
   ],
   "source": [
    "%tensorboard --logdir=my_logs"
   ]
  },
  {
   "cell_type": "code",
   "execution_count": 57,
   "id": "e163593b",
   "metadata": {
    "scrolled": true
   },
   "outputs": [
    {
     "name": "stdout",
     "output_type": "stream",
     "text": [
      "313/313 [==============================] - 3s 9ms/step - loss: 2.3011 - accuracy: 0.1135\n"
     ]
    },
    {
     "data": {
      "text/plain": [
       "0.11349999904632568"
      ]
     },
     "execution_count": 57,
     "metadata": {},
     "output_type": "execute_result"
    }
   ],
   "source": [
    "test_loss, test_acc = model.evaluate(test_images, test_labels)\n",
    "test_acc"
   ]
  },
  {
   "cell_type": "code",
   "execution_count": 58,
   "id": "e0319793",
   "metadata": {},
   "outputs": [
    {
     "data": {
      "text/plain": [
       "0.11349999904632568"
      ]
     },
     "execution_count": 58,
     "metadata": {},
     "output_type": "execute_result"
    }
   ],
   "source": [
    "test_acc"
   ]
  },
  {
   "cell_type": "code",
   "execution_count": 61,
   "id": "a4775399",
   "metadata": {},
   "outputs": [],
   "source": [
    "%load_ext yamlmagic"
   ]
  },
  {
   "cell_type": "code",
   "execution_count": 69,
   "id": "c7be5187",
   "metadata": {},
   "outputs": [
    {
     "data": {
      "application/javascript": [
       "\n",
       "            require(\n",
       "                [\n",
       "                    \"notebook/js/codecell\",\n",
       "                    \"codemirror/mode/yaml/yaml\"\n",
       "                ],\n",
       "                function(cc){\n",
       "                    cc.CodeCell.options_default.highlight_modes.magic_yaml = {\n",
       "                        reg: [\"^%%yaml\"]\n",
       "                    }\n",
       "                }\n",
       "            );\n",
       "            "
      ],
      "text/plain": [
       "<IPython.core.display.Javascript object>"
      ]
     },
     "metadata": {},
     "output_type": "display_data"
    }
   ],
   "source": [
    "%%yaml yamlFromMagic\n",
    "dataset:\n",
    "  path: './AIandMachineLearning/horse-or-human'\n",
    "  train_size: 0.8\n",
    "  size_x: 224\n",
    "  size_y: 224\n",
    "  classes: 2\n",
    "  channel: 3\n",
    "  path_image: './dataset.png'\n",
    "  predict_image: './prediction.png'\n",
    "train:\n",
    "  optimizer: NADAM       # Possible values: ADAM,NADAM,SGD,SGD_MOMENTUM,RMS_PROP,ADA_GRAD\n",
    "  learning_rate: 0.001\n",
    "  batch_size: 32\n",
    "  use_multiprocessing: True\n",
    "  num_workers: -1\n",
    "  epochs: 1\n",
    "  weight_initialization:\n",
    "    use_pretrained: False\n",
    "    restore_from: './last.h5'\n",
    "  output_weight: './final.h5'\n",
    "network:\n",
    "  graph_path: './graph.json'\n",
    "  model_img: './model.png'\n",
    "data_aug:\n",
    "  use_aug: False\n",
    "callbacks:\n",
    "  earlystopping:\n",
    "    use_early_stop: True\n",
    "    patience: 10\n",
    "    monitor: 'val_loss'\n",
    "  checkpoint:\n",
    "    checkpoint_last:\n",
    "      enabled: True\n",
    "      monitor: 'val_loss'\n",
    "      out_last: './last.h5'\n",
    "    checkpoint_best:\n",
    "      enabled: True\n",
    "      monitor: 'val_loss'\n",
    "      out_last: './best.h5'\n",
    "  tensorboard:\n",
    "    enabled: True\n",
    "    log_dir: './logs'\n",
    "  scheduler:\n",
    "    onecycle:\n",
    "      to_use : True\n",
    "      max_rate: 0.05\n",
    "    exponential_scheduler:\n",
    "      to_use : False\n",
    "      params: 10"
   ]
  },
  {
   "cell_type": "code",
   "execution_count": 70,
   "id": "6beff947",
   "metadata": {},
   "outputs": [
    {
     "name": "stdout",
     "output_type": "stream",
     "text": [
      "{'dataset': {'path': './AIandMachineLearning/horse-or-human', 'train_size': 0.8, 'size_x': 224, 'size_y': 224, 'classes': 2, 'channel': 3, 'path_image': './dataset.png', 'predict_image': './prediction.png'}, 'train': {'optimizer': 'NADAM', 'learning_rate': 0.001, 'batch_size': 32, 'use_multiprocessing': True, 'num_workers': -1, 'epochs': 1, 'weight_initialization': {'use_pretrained': False, 'restore_from': './last.h5'}, 'output_weight': './final.h5'}, 'network': {'graph_path': './graph.json', 'model_img': './model.png'}, 'data_aug': {'use_aug': False}, 'callbacks': {'earlystopping': {'use_early_stop': True, 'patience': 10, 'monitor': 'val_loss'}, 'checkpoint': {'checkpoint_last': {'enabled': True, 'monitor': 'val_loss', 'out_last': './last.h5'}, 'checkpoint_best': {'enabled': True, 'monitor': 'val_loss', 'out_last': './best.h5'}}, 'tensorboard': {'enabled': True, 'log_dir': './logs'}, 'scheduler': {'onecycle': {'to_use': True, 'max_rate': 0.05}, 'exponential_scheduler': {'to_use': False, 'params': 10}}}}\n"
     ]
    }
   ],
   "source": [
    "print(yamlFromMagic)"
   ]
  },
  {
   "cell_type": "code",
   "execution_count": 79,
   "id": "ddefe96f",
   "metadata": {},
   "outputs": [],
   "source": [
    "input_size = np.random.randn(3,28,28,1)\n",
    "specification = {'filters':20, 'activation':'relu', 'kernel_size': 5}\n",
    "out = tf.keras.layers.Conv2D(**specification)(input_size)"
   ]
  },
  {
   "cell_type": "code",
   "execution_count": 81,
   "id": "acf206cf",
   "metadata": {},
   "outputs": [
    {
     "data": {
      "text/plain": [
       "TensorShape([3, 24, 24, 20])"
      ]
     },
     "execution_count": 81,
     "metadata": {},
     "output_type": "execute_result"
    }
   ],
   "source": [
    "out.shape"
   ]
  },
  {
   "cell_type": "code",
   "execution_count": 88,
   "id": "d19a6919",
   "metadata": {},
   "outputs": [
    {
     "name": "stdout",
     "output_type": "stream",
     "text": [
      "Downloading data from https://www.cs.toronto.edu/~kriz/cifar-100-python.tar.gz\n",
      "169009152/169001437 [==============================] - 118s 1us/step\n"
     ]
    }
   ],
   "source": [
    "(train_images, train_labels), (test_images, test_labels) = tf.keras.datasets.cifar100.load_data()"
   ]
  },
  {
   "cell_type": "code",
   "execution_count": 90,
   "id": "6b1e4633",
   "metadata": {},
   "outputs": [
    {
     "data": {
      "text/plain": [
       "<matplotlib.image.AxesImage at 0x7fe5c6574cd0>"
      ]
     },
     "execution_count": 90,
     "metadata": {},
     "output_type": "execute_result"
    },
    {
     "data": {
      "image/png": "[encoded data removed]",
      "text/plain": [
       "<Figure size 432x288 with 1 Axes>"
      ]
     },
     "metadata": {
      "needs_background": "light"
     },
     "output_type": "display_data"
    }
   ],
   "source": [
    "plt.imshow(train_images[0])"
   ]
  },
  {
   "cell_type": "code",
   "execution_count": 92,
   "id": "4f84a5fe",
   "metadata": {},
   "outputs": [
    {
     "data": {
      "text/plain": [
       "['__builtins__',\n",
       " '__cached__',\n",
       " '__doc__',\n",
       " '__file__',\n",
       " '__loader__',\n",
       " '__name__',\n",
       " '__package__',\n",
       " '__path__',\n",
       " '__spec__',\n",
       " '_sys',\n",
       " 'load_data']"
      ]
     },
     "execution_count": 92,
     "metadata": {},
     "output_type": "execute_result"
    }
   ],
   "source": [
    "dir(tf.keras.datasets.cifar100)"
   ]
  },
  {
   "cell_type": "code",
   "execution_count": 98,
   "id": "1ff43906",
   "metadata": {},
   "outputs": [
    {
     "data": {
      "text/plain": [
       "{'__name__': 'builtins',\n",
       " '__doc__': \"Built-in functions, exceptions, and other objects.\\n\\nNoteworthy: None is the `nil' object; Ellipsis represents `...' in slices.\",\n",
       " '__package__': '',\n",
       " '__loader__': _frozen_importlib.BuiltinImporter,\n",
       " '__spec__': ModuleSpec(name='builtins', loader=<class '_frozen_importlib.BuiltinImporter'>),\n",
       " '__build_class__': <function __build_class__>,\n",
       " '__import__': <function __import__>,\n",
       " 'abs': <function abs(x, /)>,\n",
       " 'all': <function all(iterable, /)>,\n",
       " 'any': <function any(iterable, /)>,\n",
       " 'ascii': <function ascii(obj, /)>,\n",
       " 'bin': <function bin(number, /)>,\n",
       " 'breakpoint': <function breakpoint>,\n",
       " 'callable': <function callable(obj, /)>,\n",
       " 'chr': <function chr(i, /)>,\n",
       " 'compile': <function compile(source, filename, mode, flags=0, dont_inherit=False, optimize=-1)>,\n",
       " 'delattr': <function delattr(obj, name, /)>,\n",
       " 'dir': <function dir>,\n",
       " 'divmod': <function divmod(x, y, /)>,\n",
       " 'eval': <function eval(source, globals=None, locals=None, /)>,\n",
       " 'exec': <function exec(source, globals=None, locals=None, /)>,\n",
       " 'format': <function format(value, format_spec='', /)>,\n",
       " 'getattr': <function getattr>,\n",
       " 'globals': <function globals()>,\n",
       " 'hasattr': <function hasattr(obj, name, /)>,\n",
       " 'hash': <function hash(obj, /)>,\n",
       " 'hex': <function hex(number, /)>,\n",
       " 'id': <function id(obj, /)>,\n",
       " 'input': <bound method Kernel.raw_input of <ipykernel.ipkernel.IPythonKernel object at 0x7fe60c4b6890>>,\n",
       " 'isinstance': <function isinstance(obj, class_or_tuple, /)>,\n",
       " 'issubclass': <function issubclass(cls, class_or_tuple, /)>,\n",
       " 'iter': <function iter>,\n",
       " 'len': <function len(obj, /)>,\n",
       " 'locals': <function locals()>,\n",
       " 'max': <function max>,\n",
       " 'min': <function min>,\n",
       " 'next': <function next>,\n",
       " 'oct': <function oct(number, /)>,\n",
       " 'ord': <function ord(c, /)>,\n",
       " 'pow': <function pow(x, y, z=None, /)>,\n",
       " 'print': <function print>,\n",
       " 'repr': <function repr(obj, /)>,\n",
       " 'round': <function round(number, ndigits=None)>,\n",
       " 'setattr': <function setattr(obj, name, value, /)>,\n",
       " 'sorted': <function sorted(iterable, /, *, key=None, reverse=False)>,\n",
       " 'sum': <function sum(iterable, start=0, /)>,\n",
       " 'vars': <function vars>,\n",
       " 'None': None,\n",
       " 'Ellipsis': Ellipsis,\n",
       " 'NotImplemented': NotImplemented,\n",
       " 'False': False,\n",
       " 'True': True,\n",
       " 'bool': bool,\n",
       " 'memoryview': memoryview,\n",
       " 'bytearray': bytearray,\n",
       " 'bytes': bytes,\n",
       " 'classmethod': classmethod,\n",
       " 'complex': complex,\n",
       " 'dict': dict,\n",
       " 'enumerate': enumerate,\n",
       " 'filter': filter,\n",
       " 'float': float,\n",
       " 'frozenset': frozenset,\n",
       " 'property': property,\n",
       " 'int': int,\n",
       " 'list': list,\n",
       " 'map': map,\n",
       " 'object': object,\n",
       " 'range': range,\n",
       " 'reversed': reversed,\n",
       " 'set': set,\n",
       " 'slice': slice,\n",
       " 'staticmethod': staticmethod,\n",
       " 'str': str,\n",
       " 'super': super,\n",
       " 'tuple': tuple,\n",
       " 'type': type,\n",
       " 'zip': zip,\n",
       " '__debug__': True,\n",
       " 'BaseException': BaseException,\n",
       " 'Exception': Exception,\n",
       " 'TypeError': TypeError,\n",
       " 'StopAsyncIteration': StopAsyncIteration,\n",
       " 'StopIteration': StopIteration,\n",
       " 'GeneratorExit': GeneratorExit,\n",
       " 'SystemExit': SystemExit,\n",
       " 'KeyboardInterrupt': KeyboardInterrupt,\n",
       " 'ImportError': ImportError,\n",
       " 'ModuleNotFoundError': ModuleNotFoundError,\n",
       " 'OSError': OSError,\n",
       " 'EnvironmentError': OSError,\n",
       " 'IOError': OSError,\n",
       " 'EOFError': EOFError,\n",
       " 'RuntimeError': RuntimeError,\n",
       " 'RecursionError': RecursionError,\n",
       " 'NotImplementedError': NotImplementedError,\n",
       " 'NameError': NameError,\n",
       " 'UnboundLocalError': UnboundLocalError,\n",
       " 'AttributeError': AttributeError,\n",
       " 'SyntaxError': SyntaxError,\n",
       " 'IndentationError': IndentationError,\n",
       " 'TabError': TabError,\n",
       " 'LookupError': LookupError,\n",
       " 'IndexError': IndexError,\n",
       " 'KeyError': KeyError,\n",
       " 'ValueError': ValueError,\n",
       " 'UnicodeError': UnicodeError,\n",
       " 'UnicodeEncodeError': UnicodeEncodeError,\n",
       " 'UnicodeDecodeError': UnicodeDecodeError,\n",
       " 'UnicodeTranslateError': UnicodeTranslateError,\n",
       " 'AssertionError': AssertionError,\n",
       " 'ArithmeticError': ArithmeticError,\n",
       " 'FloatingPointError': FloatingPointError,\n",
       " 'OverflowError': OverflowError,\n",
       " 'ZeroDivisionError': ZeroDivisionError,\n",
       " 'SystemError': SystemError,\n",
       " 'ReferenceError': ReferenceError,\n",
       " 'MemoryError': MemoryError,\n",
       " 'BufferError': BufferError,\n",
       " 'Warning': Warning,\n",
       " 'UserWarning': UserWarning,\n",
       " 'DeprecationWarning': DeprecationWarning,\n",
       " 'PendingDeprecationWarning': PendingDeprecationWarning,\n",
       " 'SyntaxWarning': SyntaxWarning,\n",
       " 'RuntimeWarning': RuntimeWarning,\n",
       " 'FutureWarning': FutureWarning,\n",
       " 'ImportWarning': ImportWarning,\n",
       " 'UnicodeWarning': UnicodeWarning,\n",
       " 'BytesWarning': BytesWarning,\n",
       " 'ResourceWarning': ResourceWarning,\n",
       " 'ConnectionError': ConnectionError,\n",
       " 'BlockingIOError': BlockingIOError,\n",
       " 'BrokenPipeError': BrokenPipeError,\n",
       " 'ChildProcessError': ChildProcessError,\n",
       " 'ConnectionAbortedError': ConnectionAbortedError,\n",
       " 'ConnectionRefusedError': ConnectionRefusedError,\n",
       " 'ConnectionResetError': ConnectionResetError,\n",
       " 'FileExistsError': FileExistsError,\n",
       " 'FileNotFoundError': FileNotFoundError,\n",
       " 'IsADirectoryError': IsADirectoryError,\n",
       " 'NotADirectoryError': NotADirectoryError,\n",
       " 'InterruptedError': InterruptedError,\n",
       " 'PermissionError': PermissionError,\n",
       " 'ProcessLookupError': ProcessLookupError,\n",
       " 'TimeoutError': TimeoutError,\n",
       " 'open': <function io.open(file, mode='r', buffering=-1, encoding=None, errors=None, newline=None, closefd=True, opener=None)>,\n",
       " 'copyright': Copyright (c) 2001-2021 Python Software Foundation.\n",
       " All Rights Reserved.\n",
       " \n",
       " Copyright (c) 2000 BeOpen.com.\n",
       " All Rights Reserved.\n",
       " \n",
       " Copyright (c) 1995-2001 Corporation for National Research Initiatives.\n",
       " All Rights Reserved.\n",
       " \n",
       " Copyright (c) 1991-1995 Stichting Mathematisch Centrum, Amsterdam.\n",
       " All Rights Reserved.,\n",
       " 'credits':     Thanks to CWI, CNRI, BeOpen.com, Zope Corporation and a cast of thousands\n",
       "     for supporting Python development.  See www.python.org for more information.,\n",
       " 'license': Type license() to see the full license text,\n",
       " 'help': Type help() for interactive help, or help(object) for help about object.,\n",
       " '__IPYTHON__': True,\n",
       " 'display': <function IPython.core.display.display(*objs, include=None, exclude=None, metadata=None, transient=None, display_id=None, **kwargs)>,\n",
       " '__pybind11_internals_v4_clang_libcpp_cxxabi1002__': <capsule object NULL at 0x7fe60d030d20>,\n",
       " 'get_ipython': <bound method InteractiveShell.get_ipython of <ipykernel.zmqshell.ZMQInteractiveShell object at 0x7fe60c4b6550>>}"
      ]
     },
     "execution_count": 98,
     "metadata": {},
     "output_type": "execute_result"
    }
   ],
   "source": [
    "tf.keras.datasets.cifar100.__builtins__"
   ]
  }
 ],
 "metadata": {
  "kernelspec": {
   "display_name": "Python 3",
   "language": "python",
   "name": "python3"
  },
  "language_info": {
   "codemirror_mode": {
    "name": "ipython",
    "version": 3
   },
   "file_extension": ".py",
   "mimetype": "text/x-python",
   "name": "python",
   "nbconvert_exporter": "python",
   "pygments_lexer": "ipython3",
   "version": "3.7.7"
  }
 },
 "nbformat": 4,
 "nbformat_minor": 5
}
