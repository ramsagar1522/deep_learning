{
 "cells": [
  {
   "cell_type": "code",
   "execution_count": 26,
   "id": "9e016a85",
   "metadata": {},
   "outputs": [],
   "source": [
    "import tensorflow as tf\n",
    "import numpy as np\n",
    "import matplotlib.pyplot as plt\n",
    "%matplotlib inline"
   ]
  },
  {
   "cell_type": "markdown",
   "id": "1d4e6a42",
   "metadata": {},
   "source": [
    "# Introduction\n",
    "\n",
    "The main idea is that Deep Learning is usually a `directed acyclic graph` of layers.So the functional API is way to build the layers."
   ]
  },
  {
   "cell_type": "code",
   "execution_count": 47,
   "id": "cd60a2fa",
   "metadata": {},
   "outputs": [],
   "source": [
    "inputs = tf.keras.Input(shape=(784,))"
   ]
  },
  {
   "cell_type": "code",
   "execution_count": 48,
   "id": "b0450b5b",
   "metadata": {},
   "outputs": [
    {
     "data": {
      "text/plain": [
       "TensorShape([None, 32, 32, 3])"
      ]
     },
     "execution_count": 48,
     "metadata": {},
     "output_type": "execute_result"
    }
   ],
   "source": [
    "img_shape.shape"
   ]
  },
  {
   "cell_type": "code",
   "execution_count": 49,
   "id": "b89e67eb",
   "metadata": {},
   "outputs": [],
   "source": [
    "x = tf.keras.layers.Dense(5, activation='relu', name='firstHiddenLayer')(inputs)"
   ]
  },
  {
   "cell_type": "code",
   "execution_count": 5,
   "id": "5a6b9c51",
   "metadata": {},
   "outputs": [
    {
     "data": {
      "text/plain": [
       "(TensorShape([None, 32, 32, 5]), 'firstHiddenLayer/Relu:0')"
      ]
     },
     "execution_count": 5,
     "metadata": {},
     "output_type": "execute_result"
    }
   ],
   "source": [
    "x.shape, x.name"
   ]
  },
  {
   "cell_type": "code",
   "execution_count": 50,
   "id": "ed42624c",
   "metadata": {},
   "outputs": [],
   "source": [
    "x = tf.keras.layers.Dense(64, activation='relu')(x)\n",
    "output = tf.keras.layers.Dense(10)(x)"
   ]
  },
  {
   "cell_type": "code",
   "execution_count": 51,
   "id": "620dbeda",
   "metadata": {},
   "outputs": [],
   "source": [
    "model = tf.keras.Model(inputs=inputs, outputs=output, name='mnist_model')"
   ]
  },
  {
   "cell_type": "code",
   "execution_count": 52,
   "id": "6554820a",
   "metadata": {},
   "outputs": [
    {
     "name": "stdout",
     "output_type": "stream",
     "text": [
      "Model: \"mnist_model\"\n",
      "_________________________________________________________________\n",
      "Layer (type)                 Output Shape              Param #   \n",
      "=================================================================\n",
      "input_4 (InputLayer)         [(None, 784)]             0         \n",
      "_________________________________________________________________\n",
      "firstHiddenLayer (Dense)     (None, 5)                 3925      \n",
      "_________________________________________________________________\n",
      "dense_2 (Dense)              (None, 64)                384       \n",
      "_________________________________________________________________\n",
      "dense_3 (Dense)              (None, 10)                650       \n",
      "=================================================================\n",
      "Total params: 4,959\n",
      "Trainable params: 4,959\n",
      "Non-trainable params: 0\n",
      "_________________________________________________________________\n"
     ]
    }
   ],
   "source": [
    "model.summary()"
   ]
  },
  {
   "cell_type": "code",
   "execution_count": 53,
   "id": "5c409f33",
   "metadata": {},
   "outputs": [
    {
     "name": "stdout",
     "output_type": "stream",
     "text": [
      "('Failed to import pydot. You must `pip install pydot` and install graphviz (https://graphviz.gitlab.io/download/), ', 'for `pydotprint` to work.')\n"
     ]
    }
   ],
   "source": [
    "tf.keras.utils.plot_model(model, \"my_first_model.png\", show_shapes=True )"
   ]
  },
  {
   "cell_type": "markdown",
   "id": "0416d4a6",
   "metadata": {},
   "source": [
    "# Training, evaluation, and inference"
   ]
  },
  {
   "cell_type": "code",
   "execution_count": 54,
   "id": "55f18704",
   "metadata": {},
   "outputs": [],
   "source": [
    "(X_train, y_train), (x_test, y_test) = tf.keras.datasets.mnist.load_data()"
   ]
  },
  {
   "cell_type": "code",
   "execution_count": 55,
   "id": "0fc4b085",
   "metadata": {},
   "outputs": [
    {
     "data": {
      "text/plain": [
       "<matplotlib.image.AxesImage at 0x7fa796e75a10>"
      ]
     },
     "execution_count": 55,
     "metadata": {},
     "output_type": "execute_result"
    },
    {
     "data": {
      "image/png": "[encoded data removed]",
      "text/plain": [
       "<Figure size 432x288 with 1 Axes>"
      ]
     },
     "metadata": {
      "needs_background": "light"
     },
     "output_type": "display_data"
    }
   ],
   "source": [
    "plt.imshow(X_train[0], cmap=plt.cm.binary)"
   ]
  },
  {
   "cell_type": "code",
   "execution_count": 56,
   "id": "cd168788",
   "metadata": {},
   "outputs": [],
   "source": [
    "X_train = X_train.reshape(60000, 784).astype('float32') / 255\n",
    "x_test = x_test.reshape(10000, 784).astype('float32') / 255"
   ]
  },
  {
   "cell_type": "code",
   "execution_count": 57,
   "id": "5ccab077",
   "metadata": {},
   "outputs": [
    {
     "name": "stdout",
     "output_type": "stream",
     "text": [
      "Epoch 1/2\n",
      "750/750 [==============================] - 3s 2ms/step - loss: 1.1694 - accuracy: 0.6323 - val_loss: 0.4501 - val_accuracy: 0.8689\n",
      "Epoch 2/2\n",
      "750/750 [==============================] - 1s 2ms/step - loss: 0.4522 - accuracy: 0.8668 - val_loss: 0.3818 - val_accuracy: 0.8878\n"
     ]
    },
    {
     "data": {
      "text/plain": [
       "<tensorflow.python.keras.callbacks.History at 0x7fa799bc8650>"
      ]
     },
     "execution_count": 57,
     "metadata": {},
     "output_type": "execute_result"
    }
   ],
   "source": [
    "# Compile the model\n",
    "model.compile(loss=tf.keras.losses.SparseCategoricalCrossentropy(from_logits=True),\n",
    "             optimizer=tf.keras.optimizers.RMSprop(),\n",
    "             metrics=['accuracy'])\n",
    "\n",
    "# Fit the model\n",
    "model.fit(X_train, y_train, epochs=2, batch_size=64, validation_split=0.2)"
   ]
  },
  {
   "cell_type": "markdown",
   "id": "b8f17187",
   "metadata": {},
   "source": [
    "# Save and serialize\n"
   ]
  },
  {
   "cell_type": "code",
   "execution_count": 59,
   "id": "a0bd3a04",
   "metadata": {},
   "outputs": [
    {
     "name": "stdout",
     "output_type": "stream",
     "text": [
      "INFO:tensorflow:Assets written to: functionAP/assets\n"
     ]
    }
   ],
   "source": [
    "model.save('functionAP')\n",
    "del model"
   ]
  },
  {
   "cell_type": "code",
   "execution_count": 60,
   "id": "f69dc8a7",
   "metadata": {},
   "outputs": [],
   "source": [
    "model = tf.keras.models.load_model('functionAP')"
   ]
  },
  {
   "cell_type": "code",
   "execution_count": 61,
   "id": "0517bc60",
   "metadata": {},
   "outputs": [
    {
     "name": "stdout",
     "output_type": "stream",
     "text": [
      "Model: \"mnist_model\"\n",
      "_________________________________________________________________\n",
      "Layer (type)                 Output Shape              Param #   \n",
      "=================================================================\n",
      "input_4 (InputLayer)         [(None, 784)]             0         \n",
      "_________________________________________________________________\n",
      "firstHiddenLayer (Dense)     (None, 5)                 3925      \n",
      "_________________________________________________________________\n",
      "dense_2 (Dense)              (None, 64)                384       \n",
      "_________________________________________________________________\n",
      "dense_3 (Dense)              (None, 10)                650       \n",
      "=================================================================\n",
      "Total params: 4,959\n",
      "Trainable params: 4,959\n",
      "Non-trainable params: 0\n",
      "_________________________________________________________________\n"
     ]
    }
   ],
   "source": [
    "model.summary()"
   ]
  },
  {
   "cell_type": "markdown",
   "id": "c66f5fdd",
   "metadata": {},
   "source": [
    "# Use the same graph of layers to define multiple models"
   ]
  },
  {
   "cell_type": "markdown",
   "id": "3cbe7f21",
   "metadata": {},
   "source": [
    "In the functional API, models are created by specifying their inputs and outputs in a graph of layers. That means that a single graph of layers can be used to generate multiple models."
   ]
  },
  {
   "cell_type": "code",
   "execution_count": 64,
   "id": "7605cc77",
   "metadata": {},
   "outputs": [
    {
     "name": "stdout",
     "output_type": "stream",
     "text": [
      "Model: \"encoder\"\n",
      "_________________________________________________________________\n",
      "Layer (type)                 Output Shape              Param #   \n",
      "=================================================================\n",
      "img (InputLayer)             [(None, 28, 28, 1)]       0         \n",
      "_________________________________________________________________\n",
      "conv2d_8 (Conv2D)            (None, 26, 26, 16)        160       \n",
      "_________________________________________________________________\n",
      "conv2d_9 (Conv2D)            (None, 24, 24, 32)        4640      \n",
      "_________________________________________________________________\n",
      "max_pooling2d_2 (MaxPooling2 (None, 8, 8, 32)          0         \n",
      "_________________________________________________________________\n",
      "conv2d_10 (Conv2D)           (None, 6, 6, 32)          9248      \n",
      "_________________________________________________________________\n",
      "conv2d_11 (Conv2D)           (None, 4, 4, 16)          4624      \n",
      "_________________________________________________________________\n",
      "global_max_pooling2d_2 (Glob (None, 16)                0         \n",
      "=================================================================\n",
      "Total params: 18,672\n",
      "Trainable params: 18,672\n",
      "Non-trainable params: 0\n",
      "_________________________________________________________________\n",
      "Model: \"autoencoder\"\n",
      "_________________________________________________________________\n",
      "Layer (type)                 Output Shape              Param #   \n",
      "=================================================================\n",
      "img (InputLayer)             [(None, 28, 28, 1)]       0         \n",
      "_________________________________________________________________\n",
      "conv2d_8 (Conv2D)            (None, 26, 26, 16)        160       \n",
      "_________________________________________________________________\n",
      "conv2d_9 (Conv2D)            (None, 24, 24, 32)        4640      \n",
      "_________________________________________________________________\n",
      "max_pooling2d_2 (MaxPooling2 (None, 8, 8, 32)          0         \n",
      "_________________________________________________________________\n",
      "conv2d_10 (Conv2D)           (None, 6, 6, 32)          9248      \n",
      "_________________________________________________________________\n",
      "conv2d_11 (Conv2D)           (None, 4, 4, 16)          4624      \n",
      "_________________________________________________________________\n",
      "global_max_pooling2d_2 (Glob (None, 16)                0         \n",
      "_________________________________________________________________\n",
      "reshape_1 (Reshape)          (None, 4, 4, 1)           0         \n",
      "_________________________________________________________________\n",
      "conv2d_transpose_4 (Conv2DTr (None, 6, 6, 16)          160       \n",
      "_________________________________________________________________\n",
      "conv2d_transpose_5 (Conv2DTr (None, 8, 8, 32)          4640      \n",
      "_________________________________________________________________\n",
      "up_sampling2d_1 (UpSampling2 (None, 24, 24, 32)        0         \n",
      "_________________________________________________________________\n",
      "conv2d_transpose_6 (Conv2DTr (None, 26, 26, 16)        4624      \n",
      "_________________________________________________________________\n",
      "conv2d_transpose_7 (Conv2DTr (None, 28, 28, 1)         145       \n",
      "=================================================================\n",
      "Total params: 28,241\n",
      "Trainable params: 28,241\n",
      "Non-trainable params: 0\n",
      "_________________________________________________________________\n"
     ]
    }
   ],
   "source": [
    "encoder_input = tf.keras.layers.Input(shape=(28,28,1), name='img')\n",
    "x = tf.keras.layers.Conv2D(16, 3, activation='relu')(encoder_input)\n",
    "x = tf.keras.layers.Conv2D(32, 3, activation='relu')(x)\n",
    "x = tf.keras.layers.MaxPooling2D(3)(x)\n",
    "x = tf.keras.layers.Conv2D(32, 3, activation=\"relu\")(x)\n",
    "x = tf.keras.layers.Conv2D(16, 3, activation=\"relu\")(x)\n",
    "encoder_output = tf.keras.layers.GlobalMaxPooling2D()(x)\n",
    "\n",
    "encoder = tf.keras.Model(inputs=encoder_input, outputs=encoder_output, name='encoder')\n",
    "encoder.summary()\n",
    "\n",
    "x = tf.keras.layers.Reshape((4, 4, 1))(encoder_output)\n",
    "x = tf.keras.layers.Conv2DTranspose(16, 3, activation=\"relu\")(x)\n",
    "x = tf.keras.layers.Conv2DTranspose(32, 3, activation=\"relu\")(x)\n",
    "x = tf.keras.layers.UpSampling2D(3)(x)\n",
    "x = tf.keras.layers.Conv2DTranspose(16, 3, activation=\"relu\")(x)\n",
    "decoder_output = tf.keras.layers.Conv2DTranspose(1, 3, activation=\"relu\")(x)\n",
    "\n",
    "autoencoder = tf.keras.Model(encoder_input, decoder_output, name=\"autoencoder\")\n",
    "autoencoder.summary()"
   ]
  },
  {
   "cell_type": "code",
   "execution_count": 71,
   "id": "1679ef5f",
   "metadata": {},
   "outputs": [],
   "source": [
    "def get_model():\n",
    "    inputs = tf.keras.Input(shape=(128,))\n",
    "    outputs = tf.keras.layers.Dense(1)(inputs)\n",
    "    return tf.keras.Model(inputs, outputs)\n",
    "\n",
    "model1 = get_model()\n",
    "model2 = get_model()\n",
    "model3 = get_model()\n",
    "\n",
    "inputs = tf.keras.layers.Input(shape=(128,))\n",
    "y1 = model1(inputs)\n",
    "y2 = model2(inputs)\n",
    "y3 = model3(inputs)\n",
    "outputs = tf.keras.layers.average([y1, y2, y3])\n",
    "ensemble_model = tf.keras.Model(inputs=inputs, outputs=outputs)"
   ]
  },
  {
   "cell_type": "code",
   "execution_count": 69,
   "id": "6eb14737",
   "metadata": {},
   "outputs": [
    {
     "data": {
      "text/plain": [
       "<KerasTensor: shape=(None, 1) dtype=float32 (created by layer 'average')>"
      ]
     },
     "execution_count": 69,
     "metadata": {},
     "output_type": "execute_result"
    }
   ],
   "source": []
  },
  {
   "cell_type": "code",
   "execution_count": null,
   "id": "0a7aaa30",
   "metadata": {},
   "outputs": [],
   "source": []
  }
 ],
 "metadata": {
  "kernelspec": {
   "display_name": "Python 3",
   "language": "python",
   "name": "python3"
  },
  "language_info": {
   "codemirror_mode": {
    "name": "ipython",
    "version": 3
   },
   "file_extension": ".py",
   "mimetype": "text/x-python",
   "name": "python",
   "nbconvert_exporter": "python",
   "pygments_lexer": "ipython3",
   "version": "3.7.10"
  }
 },
 "nbformat": 4,
 "nbformat_minor": 5
}
